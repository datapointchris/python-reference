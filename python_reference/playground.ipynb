{
 "cells": [
  {
   "cell_type": "markdown",
   "metadata": {},
   "source": [
    "# Python Playground"
   ]
  },
  {
   "cell_type": "code",
   "execution_count": null,
   "metadata": {},
   "outputs": [],
   "source": [
    "from pprint import pprint\n",
    "import requests\n",
    "LOCALHOST = 'http://127.0.0.1:8080'"
   ]
  },
  {
   "cell_type": "code",
   "execution_count": null,
   "metadata": {
    "scrolled": true
   },
   "outputs": [],
   "source": []
  },
  {
   "cell_type": "markdown",
   "metadata": {},
   "source": [
    "## Reading Files"
   ]
  },
  {
   "cell_type": "code",
   "execution_count": null,
   "metadata": {},
   "outputs": [],
   "source": [
    "# TXT file\n",
    "with open('../data/test_data/this_is_line_x.txt') as f:\n",
    "    for line in f:\n",
    "        print(line)"
   ]
  },
  {
   "cell_type": "code",
   "execution_count": null,
   "metadata": {},
   "outputs": [],
   "source": [
    "import itertools\n",
    "import csv"
   ]
  },
  {
   "cell_type": "code",
   "execution_count": null,
   "metadata": {},
   "outputs": [],
   "source": [
    "with open('../data/test_data/customer-orders.csv') as f:\n",
    "    for row in csv.reader(itertools.islice(f, 10)):\n",
    "        print(row)"
   ]
  },
  {
   "cell_type": "code",
   "execution_count": null,
   "metadata": {},
   "outputs": [],
   "source": [
    "from io import TextIOWrapper\n",
    "# help(TextIOWrapper)"
   ]
  },
  {
   "cell_type": "code",
   "execution_count": null,
   "metadata": {},
   "outputs": [],
   "source": [
    "import contextlib\n",
    "import requests\n",
    "\n",
    "with contextlib.closing(requests.get('http://www.python.org/')) as front_page:\n",
    "    text = front_page.text\n",
    "    print(len(text))\n",
    "    print(text.find('Python'))\n",
    "\n",
    "with requests.get('http://www.python.org/') as front_page:\n",
    "    text = front_page.text\n",
    "    print(len(text))\n",
    "    print(text.find('Python'))\n"
   ]
  },
  {
   "cell_type": "code",
   "execution_count": null,
   "metadata": {},
   "outputs": [],
   "source": [
    "from argparse import ArgumentParser\n",
    "\n",
    "parser = ArgumentParser()\n",
    "parser.add_argument('--vowel')\n",
    "parser.add_argument('--text')\n",
    "args = parser.parse_args()"
   ]
  },
  {
   "cell_type": "code",
   "execution_count": null,
   "metadata": {},
   "outputs": [],
   "source": [
    "from dataclasses import dataclass\n",
    "\n",
    "@dataclass\n",
    "class Args:\n",
    "    vowel: str\n",
    "    text: str\n",
    "\n",
    "def main():\n",
    "    args = Args('o', 'I like to eat apples and bananas!')\n",
    "    vowels = list('aeiouAEIOU')\n",
    "    vowel_map = {v: args.vowel if v.islower() else args.vowel.upper() for v in vowels}\n",
    "    translate_table = str.maketrans(vowel_map)\n",
    "    translated = [line.translate(translate_table) for line in args.text]\n",
    "    print(''.join(translated))\n",
    "    \n",
    "main()"
   ]
  },
  {
   "cell_type": "code",
   "execution_count": null,
   "metadata": {},
   "outputs": [],
   "source": [
    "from dataclasses import dataclass\n",
    "\n",
    "@dataclass\n",
    "class Args:\n",
    "    vowel: str\n",
    "    text: str\n",
    "\n",
    "def main():\n",
    "    \"\"\"doc\"\"\"\n",
    "    args = Args('o', 'I like to eat apples and bananas!')\n",
    "    vowels = 'aeiouAEIOU'\n",
    "    vowel_map = {v: args.vowel if v.islower() else args.vowel.upper() for v in vowels}\n",
    "    translate_table = str.maketrans(vowel_map)\n",
    "    translated = [line.translate(translate_table) for line in args.text]\n",
    "    print(''.join(translated))\n",
    "    \n",
    "main()"
   ]
  },
  {
   "cell_type": "code",
   "execution_count": null,
   "metadata": {},
   "outputs": [],
   "source": [
    "args = Args('o', 'I like to eat apples and bananas!')\n",
    "\n",
    "print(''.join([line.translate(str.maketrans({v: args.vowel if v.islower() else args.vowel.upper() for v in (list('aeiou') + list(map(lambda x: x.upper(), 'aeiou')))})) for line in args.text]))"
   ]
  },
  {
   "cell_type": "code",
   "execution_count": null,
   "metadata": {},
   "outputs": [],
   "source": [
    "list('aeiou') + list(map(lambda x: x.upper(), 'aeiou'))"
   ]
  },
  {
   "cell_type": "code",
   "execution_count": null,
   "metadata": {},
   "outputs": [],
   "source": [
    "[list('aeiou') + list(map(lambda x: x.upper(), 'aeiou'))]"
   ]
  },
  {
   "cell_type": "code",
   "execution_count": null,
   "metadata": {},
   "outputs": [],
   "source": [
    "args = Args('o', 'I like to eat apples and bananas!')\n",
    "vowels = 'aeiouAEIOU'\n",
    "vowel_map = {v: args.vowel if v.islower() else args.vowel.upper() for v in vowels}\n",
    "vowel_map = {v: (args.vowel if v.islower() else args.vowel.upper()) for v in vowels}\n",
    "vowel_map"
   ]
  },
  {
   "cell_type": "code",
   "execution_count": 5,
   "metadata": {},
   "outputs": [
    {
     "name": "stdout",
     "output_type": "stream",
     "text": [
      "10000\n",
      "5000000\n",
      "set()\n"
     ]
    }
   ],
   "source": [
    "import random\n",
    "import collections\n",
    "\n",
    "def get_new_values(num=5, previous_values=None, max_value=100):\n",
    "    previous_values = set() if previous_values is None else set(previous_values.copy())\n",
    "    while num > 0:\n",
    "        while (new_value := random.randint(1, max_value)) in previous_values:\n",
    "            continue\n",
    "        previous_values.add(new_value)\n",
    "        num -= 1\n",
    "        yield new_value\n",
    "\n",
    "\n",
    "previous_values = list(range(1, 10_000_000, 1000))\n",
    "# previous_values = list(range(1, 1000, 100))\n",
    "new_values = list(get_new_values(5_000_000, previous_values, 10_000_000))\n",
    "print(len(previous_values))\n",
    "print(len(new_values))\n",
    "print(set(previous_values).intersection(set(new_values)))\n"
   ]
  },
  {
   "cell_type": "code",
   "execution_count": null,
   "metadata": {},
   "outputs": [],
   "source": []
  }
 ],
 "metadata": {
  "kernelspec": {
   "display_name": "Python 3.10.5 ('.venv': venv)",
   "language": "python",
   "name": "python3"
  },
  "language_info": {
   "codemirror_mode": {
    "name": "ipython",
    "version": 3
   },
   "file_extension": ".py",
   "mimetype": "text/x-python",
   "name": "python",
   "nbconvert_exporter": "python",
   "pygments_lexer": "ipython3",
   "version": "3.11.5"
  },
  "vscode": {
   "interpreter": {
    "hash": "3adb4d0a57657554521907f9359e83a2f750cdc1d17417aa6f289b4aea9a730f"
   }
  }
 },
 "nbformat": 4,
 "nbformat_minor": 4
}
