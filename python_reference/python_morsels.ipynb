{
 "cells": [
  {
   "cell_type": "markdown",
   "id": "892b9c2b",
   "metadata": {},
   "source": [
    "## Parse Ranges"
   ]
  },
  {
   "cell_type": "code",
   "execution_count": 1,
   "id": "1fa056f2",
   "metadata": {},
   "outputs": [],
   "source": [
    "text_ranges = '1-4,6, 8-9'"
   ]
  },
  {
   "cell_type": "code",
   "execution_count": 2,
   "id": "4bc90d52",
   "metadata": {},
   "outputs": [],
   "source": [
    "def parse_ranges(ranges):\n",
    "    pairs = (group.split('-') for group in ranges.split(','))\n",
    "    for start, stop in pairs:\n",
    "        yield from range(int(start), int(stop)+1)\n",
    "\n",
    "    "
   ]
  },
  {
   "cell_type": "code",
   "execution_count": 3,
   "id": "a289726d",
   "metadata": {},
   "outputs": [
    {
     "ename": "ValueError",
     "evalue": "not enough values to unpack (expected 2, got 1)",
     "output_type": "error",
     "traceback": [
      "\u001b[0;31m---------------------------------------------------------------------------\u001b[0m",
      "\u001b[0;31mValueError\u001b[0m                                Traceback (most recent call last)",
      "\u001b[1;32m/Users/chris/github/playground/python_morsels.ipynb Cell 4'\u001b[0m in \u001b[0;36m<cell line: 1>\u001b[0;34m()\u001b[0m\n\u001b[0;32m----> <a href='vscode-notebook-cell:/Users/chris/github/playground/python_morsels.ipynb#ch0000003?line=0'>1</a>\u001b[0m \u001b[39mlist\u001b[39;49m(parse_ranges(text_ranges))\n",
      "\u001b[1;32m/Users/chris/github/playground/python_morsels.ipynb Cell 3'\u001b[0m in \u001b[0;36mparse_ranges\u001b[0;34m(ranges)\u001b[0m\n\u001b[1;32m      <a href='vscode-notebook-cell:/Users/chris/github/playground/python_morsels.ipynb#ch0000002?line=0'>1</a>\u001b[0m \u001b[39mdef\u001b[39;00m \u001b[39mparse_ranges\u001b[39m(ranges):\n\u001b[1;32m      <a href='vscode-notebook-cell:/Users/chris/github/playground/python_morsels.ipynb#ch0000002?line=1'>2</a>\u001b[0m     pairs \u001b[39m=\u001b[39m (group\u001b[39m.\u001b[39msplit(\u001b[39m'\u001b[39m\u001b[39m-\u001b[39m\u001b[39m'\u001b[39m) \u001b[39mfor\u001b[39;00m group \u001b[39min\u001b[39;00m ranges\u001b[39m.\u001b[39msplit(\u001b[39m'\u001b[39m\u001b[39m,\u001b[39m\u001b[39m'\u001b[39m))\n\u001b[0;32m----> <a href='vscode-notebook-cell:/Users/chris/github/playground/python_morsels.ipynb#ch0000002?line=2'>3</a>\u001b[0m     \u001b[39mfor\u001b[39;00m start, stop \u001b[39min\u001b[39;00m pairs:\n\u001b[1;32m      <a href='vscode-notebook-cell:/Users/chris/github/playground/python_morsels.ipynb#ch0000002?line=3'>4</a>\u001b[0m         \u001b[39myield from\u001b[39;00m \u001b[39mrange\u001b[39m(\u001b[39mint\u001b[39m(start), \u001b[39mint\u001b[39m(stop)\u001b[39m+\u001b[39m\u001b[39m1\u001b[39m)\n",
      "\u001b[0;31mValueError\u001b[0m: not enough values to unpack (expected 2, got 1)"
     ]
    }
   ],
   "source": [
    "list(parse_ranges(text_ranges))"
   ]
  },
  {
   "cell_type": "code",
   "execution_count": 47,
   "id": "92be3363",
   "metadata": {},
   "outputs": [],
   "source": [
    "ran = parse_ranges(text_ranges)"
   ]
  },
  {
   "cell_type": "code",
   "execution_count": 48,
   "id": "400ed3ba",
   "metadata": {},
   "outputs": [
    {
     "name": "stdout",
     "output_type": "stream",
     "text": [
      "[['1', '4'], ['6'], [' 8', '9']]\n"
     ]
    },
    {
     "ename": "StopIteration",
     "evalue": "",
     "output_type": "error",
     "traceback": [
      "\u001b[0;31m---------------------------------------------------------------------------\u001b[0m",
      "\u001b[0;31mStopIteration\u001b[0m                             Traceback (most recent call last)",
      "\u001b[1;32m/Users/chris/github/playground/python_morsels.ipynb Cell 6'\u001b[0m in \u001b[0;36m<cell line: 1>\u001b[0;34m()\u001b[0m\n\u001b[0;32m----> <a href='vscode-notebook-cell:/Users/chris/github/playground/python_morsels.ipynb#ch0000004?line=0'>1</a>\u001b[0m \u001b[39mnext\u001b[39;49m(ran)\n",
      "\u001b[0;31mStopIteration\u001b[0m: "
     ]
    }
   ],
   "source": [
    "next(ran)"
   ]
  },
  {
   "cell_type": "markdown",
   "id": "814231e0",
   "metadata": {},
   "source": [
    "## Add Matrices"
   ]
  },
  {
   "cell_type": "code",
   "execution_count": 119,
   "id": "7f85dbe7",
   "metadata": {},
   "outputs": [],
   "source": [
    "from functools import reduce"
   ]
  },
  {
   "cell_type": "code",
   "execution_count": 131,
   "id": "e49162d9",
   "metadata": {},
   "outputs": [],
   "source": [
    "matrix1 = [[1, 9], [7, 3]]\n",
    "matrix2 = [[5, -4], [3, 3]]\n",
    "matrix3 = [[2, 3], [-3, 1]]\n",
    "matrix4 = [[2, 3], [-3, 1], [5, 3]]\n",
    "matrices = (matrix1, matrix2, matrix3)"
   ]
  },
  {
   "cell_type": "code",
   "execution_count": null,
   "id": "ff3292f7",
   "metadata": {},
   "outputs": [],
   "source": [
    "from itertools import groupby\n",
    "def all_equal(iterable):\n",
    "    g = groupby(iterable)\n",
    "    return next(g, True) and not next(g, False)"
   ]
  },
  {
   "cell_type": "code",
   "execution_count": 124,
   "id": "8293bb81",
   "metadata": {},
   "outputs": [],
   "source": [
    "def all_equal(iterator):\n",
    "    iterator = iter(iterator)\n",
    "    try:\n",
    "        first = next(iterator)\n",
    "    except StopIteration:\n",
    "        return True\n",
    "    return all(first == x for x in iterator)"
   ]
  },
  {
   "cell_type": "code",
   "execution_count": 123,
   "id": "2c4e10b0",
   "metadata": {},
   "outputs": [
    {
     "data": {
      "text/plain": [
       "True"
      ]
     },
     "execution_count": 123,
     "metadata": {},
     "output_type": "execute_result"
    }
   ],
   "source": [
    "lens = [len(mat) for mat in matrices]\n",
    "lens.count(lens[0]) == len(lens)"
   ]
  },
  {
   "cell_type": "code",
   "execution_count": 147,
   "id": "406f6c1f",
   "metadata": {},
   "outputs": [],
   "source": [
    "def add_mat(*matrices):\n",
    "    if not len(set([len(m) for m in matrices])) <= 1:\n",
    "        raise ValueError(\"Given matrices are not the same size.\")\n",
    "    return [\n",
    "        [sum(vals) for vals in zip(*rows)]\n",
    "        for rows in zip(*matrices)\n",
    "    ]"
   ]
  },
  {
   "cell_type": "code",
   "execution_count": 144,
   "id": "b6a9e648",
   "metadata": {},
   "outputs": [],
   "source": [
    "def add_mat(*matrices):\n",
    "    if not len(set([len(m) for m in matrices])) <= 1:\n",
    "        raise ValueError(\"Given matrices are not the same size.\")\n",
    "    summed_matrix = []\n",
    "    for pairs in zip(*matrices):\n",
    "        summed_pairs = [sum(vals) for vals in zip(*pairs)]\n",
    "        summed_matrix.append(summed_pairs)\n",
    "    return summed_matrix"
   ]
  },
  {
   "cell_type": "code",
   "execution_count": 148,
   "id": "a77a437f",
   "metadata": {},
   "outputs": [
    {
     "data": {
      "text/plain": [
       "True"
      ]
     },
     "execution_count": 148,
     "metadata": {},
     "output_type": "execute_result"
    }
   ],
   "source": [
    "add_mat(matrix1, matrix2, matrix3) == add_mat(*matrices)"
   ]
  },
  {
   "cell_type": "code",
   "execution_count": 149,
   "id": "a9b38c63",
   "metadata": {},
   "outputs": [
    {
     "ename": "ValueError",
     "evalue": "Given matrices are not the same size.",
     "output_type": "error",
     "traceback": [
      "\u001b[0;31m---------------------------------------------------------------------------\u001b[0m",
      "\u001b[0;31mValueError\u001b[0m                                Traceback (most recent call last)",
      "\u001b[1;32m/Users/chris/github/playground/python_morsels.ipynb Cell 17'\u001b[0m in \u001b[0;36m<cell line: 1>\u001b[0;34m()\u001b[0m\n\u001b[0;32m----> <a href='vscode-notebook-cell:/Users/chris/github/playground/python_morsels.ipynb#ch0000014?line=0'>1</a>\u001b[0m add_mat(matrix1, matrix2, matrix4)\n",
      "\u001b[1;32m/Users/chris/github/playground/python_morsels.ipynb Cell 14'\u001b[0m in \u001b[0;36madd_mat\u001b[0;34m(*matrices)\u001b[0m\n\u001b[1;32m      <a href='vscode-notebook-cell:/Users/chris/github/playground/python_morsels.ipynb#ch0000027?line=0'>1</a>\u001b[0m \u001b[39mdef\u001b[39;00m \u001b[39madd_mat\u001b[39m(\u001b[39m*\u001b[39mmatrices):\n\u001b[1;32m      <a href='vscode-notebook-cell:/Users/chris/github/playground/python_morsels.ipynb#ch0000027?line=1'>2</a>\u001b[0m     \u001b[39mif\u001b[39;00m \u001b[39mnot\u001b[39;00m \u001b[39mlen\u001b[39m(\u001b[39mset\u001b[39m([\u001b[39mlen\u001b[39m(m) \u001b[39mfor\u001b[39;00m m \u001b[39min\u001b[39;00m matrices])) \u001b[39m<\u001b[39m\u001b[39m=\u001b[39m \u001b[39m1\u001b[39m:\n\u001b[0;32m----> <a href='vscode-notebook-cell:/Users/chris/github/playground/python_morsels.ipynb#ch0000027?line=2'>3</a>\u001b[0m         \u001b[39mraise\u001b[39;00m \u001b[39mValueError\u001b[39;00m(\u001b[39m\"\u001b[39m\u001b[39mGiven matrices are not the same size.\u001b[39m\u001b[39m\"\u001b[39m)\n\u001b[1;32m      <a href='vscode-notebook-cell:/Users/chris/github/playground/python_morsels.ipynb#ch0000027?line=3'>4</a>\u001b[0m     \u001b[39mreturn\u001b[39;00m [\n\u001b[1;32m      <a href='vscode-notebook-cell:/Users/chris/github/playground/python_morsels.ipynb#ch0000027?line=4'>5</a>\u001b[0m         [\u001b[39msum\u001b[39m(vals) \u001b[39mfor\u001b[39;00m vals \u001b[39min\u001b[39;00m \u001b[39mzip\u001b[39m(\u001b[39m*\u001b[39mrows)]\n\u001b[1;32m      <a href='vscode-notebook-cell:/Users/chris/github/playground/python_morsels.ipynb#ch0000027?line=5'>6</a>\u001b[0m         \u001b[39mfor\u001b[39;00m rows \u001b[39min\u001b[39;00m \u001b[39mzip\u001b[39m(\u001b[39m*\u001b[39mmatrices)\n\u001b[1;32m      <a href='vscode-notebook-cell:/Users/chris/github/playground/python_morsels.ipynb#ch0000027?line=6'>7</a>\u001b[0m     ]\n",
      "\u001b[0;31mValueError\u001b[0m: Given matrices are not the same size."
     ]
    }
   ],
   "source": [
    "add_mat(matrix1, matrix2, matrix4)"
   ]
  },
  {
   "cell_type": "markdown",
   "id": "70e82d97",
   "metadata": {},
   "source": [
    "## Circle"
   ]
  },
  {
   "cell_type": "code",
   "execution_count": null,
   "id": "3515f334",
   "metadata": {},
   "outputs": [],
   "source": []
  },
  {
   "cell_type": "markdown",
   "id": "8e20a2ef",
   "metadata": {},
   "source": [
    "### Double Assignment"
   ]
  },
  {
   "cell_type": "code",
   "execution_count": 10,
   "id": "4f5d0cb5",
   "metadata": {},
   "outputs": [
    {
     "name": "stdout",
     "output_type": "stream",
     "text": [
      "(1, 2, 3)\n",
      "<class 'tuple'>\n",
      "1\n",
      "2\n",
      "3\n"
     ]
    }
   ],
   "source": [
    "new_list = x, y, z = 1, 2, 3\n",
    "print(new_list)\n",
    "print(type(new_list))\n",
    "print(x)\n",
    "print(y)\n",
    "print(z)"
   ]
  },
  {
   "cell_type": "markdown",
   "id": "5f019924",
   "metadata": {},
   "source": [
    "## Palindrome Tester"
   ]
  },
  {
   "cell_type": "code",
   "execution_count": 6,
   "id": "263c9242",
   "metadata": {},
   "outputs": [
    {
     "data": {
      "text/plain": [
       "True"
      ]
     },
     "execution_count": 6,
     "metadata": {},
     "output_type": "execute_result"
    }
   ],
   "source": [
    "word = 'alongword'\n",
    "word = 'alonggnola'\n",
    "def paltest(word):\n",
    "    for first, last in zip(word, reversed(word)):\n",
    "        if first != last:\n",
    "            return False\n",
    "        return True\n",
    "\n",
    "paltest(word)"
   ]
  },
  {
   "cell_type": "code",
   "execution_count": 98,
   "id": "56c23a25",
   "metadata": {},
   "outputs": [],
   "source": [
    "d1 = {'python': 10, 'java': 3, 'c#': 8, 'javascript': 15}\n",
    "d2 = {'java': 10, 'c++': 10, 'c#': 4, 'go': 9, 'python': 6}\n",
    "d3 = {'erlang': 5, 'haskell': 2, 'python': 1, 'pascal': 1}\n",
    "dicts = [d1, d2, d3]\n"
   ]
  },
  {
   "cell_type": "code",
   "execution_count": 101,
   "id": "c4f6b9a6",
   "metadata": {},
   "outputs": [],
   "source": [
    "from itertools import chain\n",
    "def sorted_summed(dicts: list[dict]) -> dict:\n",
    "    counter = {}\n",
    "    for k, v in chain(*[d.items() for d in dicts]):\n",
    "        counter[k] = counter.get(k, 0) + v\n",
    "    return dict(sorted(counter.items(), key=lambda x: x[1], reverse=True))"
   ]
  },
  {
   "cell_type": "code",
   "execution_count": 102,
   "id": "649c4aa2",
   "metadata": {},
   "outputs": [
    {
     "data": {
      "text/plain": [
       "{'python': 17,\n",
       " 'javascript': 15,\n",
       " 'java': 13,\n",
       " 'c#': 12,\n",
       " 'c++': 10,\n",
       " 'go': 9,\n",
       " 'erlang': 5,\n",
       " 'haskell': 2,\n",
       " 'pascal': 1}"
      ]
     },
     "execution_count": 102,
     "metadata": {},
     "output_type": "execute_result"
    }
   ],
   "source": [
    "sorted_summed(dicts)"
   ]
  },
  {
   "cell_type": "code",
   "execution_count": null,
   "id": "e5868678",
   "metadata": {},
   "outputs": [],
   "source": []
  }
 ],
 "metadata": {
  "interpreter": {
   "hash": "3adb4d0a57657554521907f9359e83a2f750cdc1d17417aa6f289b4aea9a730f"
  },
  "kernelspec": {
   "display_name": "Python 3.10.2 ('.venv': poetry)",
   "language": "python",
   "name": "python3"
  },
  "language_info": {
   "codemirror_mode": {
    "name": "ipython",
    "version": 3
   },
   "file_extension": ".py",
   "mimetype": "text/x-python",
   "name": "python",
   "nbconvert_exporter": "python",
   "pygments_lexer": "ipython3",
   "version": "3.10.6"
  }
 },
 "nbformat": 4,
 "nbformat_minor": 5
}
