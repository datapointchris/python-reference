{
 "cells": [
  {
   "cell_type": "code",
   "execution_count": 3,
   "metadata": {},
   "outputs": [],
   "source": [
    "import pandas as pd\n",
    "import numpy as np\n",
    "from sklearn.ensemble import RandomForestRegressor"
   ]
  },
  {
   "cell_type": "code",
   "execution_count": 4,
   "metadata": {},
   "outputs": [],
   "source": [
    "items = [\n",
    "    (32, 1024, 0, 1351.99),\n",
    "    (32, 1024, 0, 1430.99),\n",
    "    (32, 1024, 0, 1275),\n",
    "    (64, 1024, 90, 1899),\n",
    "    (32, 1024, 0, 1549),\n",
    "    (32, 1024, 0, 1495),\n",
    "    (32, 1024, 0, 1449),\n",
    "    (16, 1024, 0, 1200),\n",
    "    (16, 1024, 0, 1399),\n",
    "    (64, 2048, 0, 1965),\n",
    "    (32, 1024, 15.40, 1579),\n",
    "    (16, 2048, 0, 1585),\n",
    "    (16, 1024, 12.71, 1300),\n",
    "    (64, 2048, 0, 1699),\n",
    "    (32, 1024, 0, 1493),\n",
    "    (64, 2048, 0, 1999),\n",
    "    (16, 1024, 0, 1465.27),\n",
    "    (32, 1024, 0, 1431),\n",
    "    (32, 1024, 0, 1599),\n",
    "    (8, 2048, 0, 1599),\n",
    "    (64, 1024, 0, 1743.25),\n",
    "    (64, 2048, 0, 1994.05),\n",
    "    (32, 1024, 0, 1549),\n",
    "    (32, 1024, 0, 1529.15),\n",
    "    (16, 2048, 0, 1500),\n",
    "    (64, 1024, 0, 1548.25),\n",
    "    ]"
   ]
  },
  {
   "cell_type": "code",
   "execution_count": 5,
   "metadata": {},
   "outputs": [
    {
     "data": {
      "text/html": [
       "<div>\n",
       "<style scoped>\n",
       "    .dataframe tbody tr th:only-of-type {\n",
       "        vertical-align: middle;\n",
       "    }\n",
       "\n",
       "    .dataframe tbody tr th {\n",
       "        vertical-align: top;\n",
       "    }\n",
       "\n",
       "    .dataframe thead th {\n",
       "        text-align: right;\n",
       "    }\n",
       "</style>\n",
       "<table border=\"1\" class=\"dataframe\">\n",
       "  <thead>\n",
       "    <tr style=\"text-align: right;\">\n",
       "      <th></th>\n",
       "      <th>ram</th>\n",
       "      <th>hd</th>\n",
       "      <th>shipping</th>\n",
       "      <th>price</th>\n",
       "      <th>total</th>\n",
       "    </tr>\n",
       "  </thead>\n",
       "  <tbody>\n",
       "    <tr>\n",
       "      <th>0</th>\n",
       "      <td>32</td>\n",
       "      <td>1024</td>\n",
       "      <td>0.0</td>\n",
       "      <td>1351.99</td>\n",
       "      <td>1351.99</td>\n",
       "    </tr>\n",
       "    <tr>\n",
       "      <th>1</th>\n",
       "      <td>32</td>\n",
       "      <td>1024</td>\n",
       "      <td>0.0</td>\n",
       "      <td>1430.99</td>\n",
       "      <td>1430.99</td>\n",
       "    </tr>\n",
       "    <tr>\n",
       "      <th>2</th>\n",
       "      <td>32</td>\n",
       "      <td>1024</td>\n",
       "      <td>0.0</td>\n",
       "      <td>1275.00</td>\n",
       "      <td>1275.00</td>\n",
       "    </tr>\n",
       "    <tr>\n",
       "      <th>3</th>\n",
       "      <td>64</td>\n",
       "      <td>1024</td>\n",
       "      <td>90.0</td>\n",
       "      <td>1899.00</td>\n",
       "      <td>1989.00</td>\n",
       "    </tr>\n",
       "    <tr>\n",
       "      <th>4</th>\n",
       "      <td>32</td>\n",
       "      <td>1024</td>\n",
       "      <td>0.0</td>\n",
       "      <td>1549.00</td>\n",
       "      <td>1549.00</td>\n",
       "    </tr>\n",
       "    <tr>\n",
       "      <th>5</th>\n",
       "      <td>32</td>\n",
       "      <td>1024</td>\n",
       "      <td>0.0</td>\n",
       "      <td>1495.00</td>\n",
       "      <td>1495.00</td>\n",
       "    </tr>\n",
       "    <tr>\n",
       "      <th>6</th>\n",
       "      <td>32</td>\n",
       "      <td>1024</td>\n",
       "      <td>0.0</td>\n",
       "      <td>1449.00</td>\n",
       "      <td>1449.00</td>\n",
       "    </tr>\n",
       "    <tr>\n",
       "      <th>7</th>\n",
       "      <td>16</td>\n",
       "      <td>1024</td>\n",
       "      <td>0.0</td>\n",
       "      <td>1200.00</td>\n",
       "      <td>1200.00</td>\n",
       "    </tr>\n",
       "    <tr>\n",
       "      <th>8</th>\n",
       "      <td>16</td>\n",
       "      <td>1024</td>\n",
       "      <td>0.0</td>\n",
       "      <td>1399.00</td>\n",
       "      <td>1399.00</td>\n",
       "    </tr>\n",
       "    <tr>\n",
       "      <th>9</th>\n",
       "      <td>64</td>\n",
       "      <td>2048</td>\n",
       "      <td>0.0</td>\n",
       "      <td>1965.00</td>\n",
       "      <td>1965.00</td>\n",
       "    </tr>\n",
       "  </tbody>\n",
       "</table>\n",
       "</div>"
      ],
      "text/plain": [
       "   ram    hd  shipping    price    total\n",
       "0   32  1024       0.0  1351.99  1351.99\n",
       "1   32  1024       0.0  1430.99  1430.99\n",
       "2   32  1024       0.0  1275.00  1275.00\n",
       "3   64  1024      90.0  1899.00  1989.00\n",
       "4   32  1024       0.0  1549.00  1549.00\n",
       "5   32  1024       0.0  1495.00  1495.00\n",
       "6   32  1024       0.0  1449.00  1449.00\n",
       "7   16  1024       0.0  1200.00  1200.00\n",
       "8   16  1024       0.0  1399.00  1399.00\n",
       "9   64  2048       0.0  1965.00  1965.00"
      ]
     },
     "execution_count": 5,
     "metadata": {},
     "output_type": "execute_result"
    }
   ],
   "source": [
    "\n",
    "df = pd.DataFrame(data=items, columns=['ram', 'hd', 'shipping', 'price'])\n",
    "df['total'] = df['shipping'] + df['price']\n",
    "df.head(10)"
   ]
  },
  {
   "cell_type": "code",
   "execution_count": 6,
   "metadata": {},
   "outputs": [
    {
     "name": "stdout",
     "output_type": "stream",
     "text": [
      "1075.396\n",
      "1183.1019999999999\n",
      "1408.1333333333334\n"
     ]
    }
   ],
   "source": [
    "discount = 0.8\n",
    "\n",
    "gb_16 = df.loc[(df['ram'] == 16) & (df['hd'] == 1024), 'total'].mean() * discount\n",
    "gb_32 = df.loc[(df['ram'] == 32) & (df['hd'] == 1024), 'total'].mean() * discount\n",
    "gb_64 = df.loc[(df['ram'] == 64) & (df['hd'] == 1024), 'total'].mean() * discount\n",
    "print(gb_16)\n",
    "print(gb_32)\n",
    "print(gb_64)"
   ]
  },
  {
   "cell_type": "code",
   "execution_count": 7,
   "metadata": {},
   "outputs": [],
   "source": [
    "X = df.drop(columns=['total'])\n",
    "y = df['total']"
   ]
  },
  {
   "cell_type": "code",
   "execution_count": 8,
   "metadata": {},
   "outputs": [],
   "source": [
    "rf = RandomForestRegressor().fit(X, y)"
   ]
  },
  {
   "cell_type": "code",
   "execution_count": 9,
   "metadata": {},
   "outputs": [
    {
     "data": {
      "text/plain": [
       "array([[  32, 1024,    0, 1225]])"
      ]
     },
     "execution_count": 9,
     "metadata": {},
     "output_type": "execute_result"
    }
   ],
   "source": [
    "computer = np.array([32, 1024, 0, 1225]).reshape(1, -1)\n",
    "computer\n"
   ]
  },
  {
   "cell_type": "code",
   "execution_count": 10,
   "metadata": {},
   "outputs": [
    {
     "name": "stderr",
     "output_type": "stream",
     "text": [
      "/Users/chris/github/playground/.venv/lib/python3.10/site-packages/sklearn/base.py:450: UserWarning: X does not have valid feature names, but RandomForestRegressor was fitted with feature names\n",
      "  warnings.warn(\n"
     ]
    },
    {
     "data": {
      "text/plain": [
       "array([1246.1064])"
      ]
     },
     "execution_count": 10,
     "metadata": {},
     "output_type": "execute_result"
    }
   ],
   "source": [
    "rf.predict(computer)"
   ]
  },
  {
   "cell_type": "code",
   "execution_count": 11,
   "metadata": {},
   "outputs": [
    {
     "data": {
      "text/plain": [
       "1440"
      ]
     },
     "execution_count": 11,
     "metadata": {},
     "output_type": "execute_result"
    }
   ],
   "source": [
    "1140 + 30 + 260 + 10"
   ]
  },
  {
   "cell_type": "code",
   "execution_count": 12,
   "metadata": {},
   "outputs": [
    {
     "data": {
      "text/plain": [
       "1475"
      ]
     },
     "execution_count": 12,
     "metadata": {},
     "output_type": "execute_result"
    }
   ],
   "source": [
    "1225 + 310 - 60"
   ]
  },
  {
   "cell_type": "code",
   "execution_count": 13,
   "metadata": {},
   "outputs": [
    {
     "data": {
      "text/plain": [
       "215"
      ]
     },
     "execution_count": 13,
     "metadata": {},
     "output_type": "execute_result"
    }
   ],
   "source": [
    "1440 - 1225"
   ]
  },
  {
   "cell_type": "code",
   "execution_count": null,
   "metadata": {},
   "outputs": [],
   "source": []
  }
 ],
 "metadata": {
  "kernelspec": {
   "display_name": "Python 3.10.6 ('.venv': poetry)",
   "language": "python",
   "name": "python3"
  },
  "language_info": {
   "codemirror_mode": {
    "name": "ipython",
    "version": 3
   },
   "file_extension": ".py",
   "mimetype": "text/x-python",
   "name": "python",
   "nbconvert_exporter": "python",
   "pygments_lexer": "ipython3",
   "version": "3.10.6"
  },
  "orig_nbformat": 4,
  "vscode": {
   "interpreter": {
    "hash": "3adb4d0a57657554521907f9359e83a2f750cdc1d17417aa6f289b4aea9a730f"
   }
  }
 },
 "nbformat": 4,
 "nbformat_minor": 2
}
