{
 "cells": [
  {
   "cell_type": "code",
   "execution_count": 653,
   "metadata": {},
   "outputs": [],
   "source": [
    "import numpy as np\n",
    "import pandas as pd\n",
    "import json\n",
    "import boto3\n",
    "from pprint import pprint\n",
    "from operator import itemgetter\n",
    "from boto3.dynamodb.conditions import Key, Attr\n",
    "from collections import Counter"
   ]
  },
  {
   "cell_type": "markdown",
   "metadata": {},
   "source": [
    "https://dynobase.dev/dynamodb-python-with-boto3/\n",
    "\n",
    "https://highlandsolutions.com/blog/hands-on-examples-for-working-with-dynamodb-boto3-and-python"
   ]
  },
  {
   "cell_type": "code",
   "execution_count": 529,
   "metadata": {},
   "outputs": [],
   "source": [
    "dynamo = boto3.resource('dynamodb', region_name='us-east-1', )\n",
    "table = dynamo.Table('moving')"
   ]
  },
  {
   "cell_type": "code",
   "execution_count": 530,
   "metadata": {},
   "outputs": [],
   "source": [
    "boxes = [\n",
    "    {\n",
    "        \"box_number\": 1,\n",
    "        \"box_name\": \"Computers\",\n",
    "        \"contents\": [\n",
    "            \"desktop\",\n",
    "            \"ups\",\n",
    "            \"gray power strip\"],\n",
    "        \"size\": \"medium\",\n",
    "        \"length\": 21,\n",
    "        \"width\": 16,\n",
    "        \"height\": 15,\n",
    "        \"weight_class\": 3,\n",
    "        \"fragile\": True,\n",
    "        \"liquid\": False,\n",
    "        \"valuable\": True,\n",
    "        \"weather_resistant\": False\n",
    "    },\n",
    "\n",
    "    {\n",
    "        \"box_number\": 2,\n",
    "        \"box_name\": \"Food Staples\",\n",
    "        \"contents\": [\n",
    "            \"protein\",\n",
    "            \"magic powder\",\n",
    "            \"wheatgrass powder\",\n",
    "            \"creatine\",\n",
    "            \"cacao\",\n",
    "            \"turbinado sugar\"],\n",
    "        \"size\": \"medium\",\n",
    "        \"length\": 21,\n",
    "        \"width\": 16,\n",
    "        \"height\": 15,\n",
    "        \"weight_class\": 2,\n",
    "        \"fragile\": False,\n",
    "        \"liquid\": False,\n",
    "        \"valuable\": False,\n",
    "        \"weather_resistant\": False\n",
    "    },\n",
    "\n",
    "    {\n",
    "        \"box_number\": 5,\n",
    "        \"box_name\": \"TV Stand 1\",\n",
    "        \"contents\": [\n",
    "            \"desktop\",\n",
    "            \"ups\",\n",
    "            \"gray power strip\"],\n",
    "        \"size\": \"medium\",\n",
    "        \"length\": 21,\n",
    "        \"width\": 16,\n",
    "        \"height\": 15,\n",
    "        \"weight_class\": 1,\n",
    "        \"fragile\": False,\n",
    "        \"liquid\": False,\n",
    "        \"valuable\": False,\n",
    "        \"weather_resistant\": False\n",
    "    },\n",
    "\n",
    "    {\n",
    "        \"box_number\": 6,\n",
    "        \"box_name\": \"TV Stand 3\",\n",
    "        \"contents\": [\n",
    "            \"protein\",\n",
    "            \"magic powder\",\n",
    "            \"wheatgrass powder\",\n",
    "            \"creatine\",\n",
    "            \"cacao\",\n",
    "            \"turbinado sugar\"],\n",
    "        \"size\": \"small\",\n",
    "        \"length\": 17,\n",
    "        \"width\": 11,\n",
    "        \"height\": 11,\n",
    "        \"weight_class\": 1,\n",
    "        \"fragile\": False,\n",
    "        \"liquid\": False,\n",
    "        \"valuable\": False,\n",
    "        \"weather_resistant\": False\n",
    "    },\n",
    "    {\n",
    "        \"box_number\": 21,\n",
    "        \"box_name\": \"TV Stand 2\",\n",
    "        \"contents\": [\n",
    "            \"protein\",\n",
    "            \"magic powder\",\n",
    "            \"wheatgrass powder\",\n",
    "            \"creatine\",\n",
    "            \"cacao\",\n",
    "            \"turbinado sugar\"],\n",
    "        \"size\": \"small\",\n",
    "        \"length\": 17,\n",
    "        \"width\": 11,\n",
    "        \"height\": 11,\n",
    "        \"weight_class\": 1,\n",
    "        \"fragile\": False,\n",
    "        \"liquid\": False,\n",
    "        \"valuable\": False,\n",
    "        \"weather_resistant\": False\n",
    "    },\n",
    "\n",
    "    {\n",
    "        \"box_number\": 7,\n",
    "        \"box_name\": \"Bathroom\",\n",
    "        \"contents\": [\n",
    "            \"bathroom shit\",\n",
    "            \"hair clippers\",\n",
    "            \"plastic drawer bin\",\n",
    "            \"medicines\",\n",
    "            \"cologne\"],\n",
    "        \"size\": \"small\",\n",
    "        \"length\": 11,\n",
    "        \"width\": 17,\n",
    "        \"height\": 11,\n",
    "        \"weight_class\": 1,\n",
    "        \"fragile\": False,\n",
    "        \"liquid\": False,\n",
    "        \"valuable\": False,\n",
    "        \"weather_resistant\": True\n",
    "    },\n",
    "\n",
    "    {\n",
    "        \"box_number\": 8,\n",
    "        \"box_name\": \"Kitchen 1 of 2\",\n",
    "        \"contents\": [\n",
    "            \"protein\",\n",
    "            \"magic powder\",\n",
    "            \"wheatgrass powder\",\n",
    "            \"creatine\",\n",
    "            \"cacao\",\n",
    "            \"turbinado sugar\"],\n",
    "        \"size\": \"medium\",\n",
    "        \"length\": 21,\n",
    "        \"width\": 16,\n",
    "        \"height\": 15,\n",
    "        \"weight_class\": 1,\n",
    "        \"fragile\": True,\n",
    "        \"liquid\": False,\n",
    "        \"valuable\": True,\n",
    "        \"weather_resistant\": False\n",
    "    },\n",
    "\n",
    "    {\n",
    "        \"box_number\": 9,\n",
    "        \"box_name\": \"Kitchen 2 of 2\",\n",
    "        \"contents\": [\n",
    "            \"protein\",\n",
    "            \"magic powder\",\n",
    "            \"wheatgrass powder\",\n",
    "            \"creatine\",\n",
    "            \"cacao\",\n",
    "            \"turbinado sugar\"],\n",
    "        \"size\": \"medium\",\n",
    "        \"length\": 21,\n",
    "        \"width\": 16,\n",
    "        \"height\": 15,\n",
    "        \"weight_class\": 2,\n",
    "        \"fragile\": False,\n",
    "        \"liquid\": False,\n",
    "        \"valuable\": True,\n",
    "        \"weather_resistant\": False\n",
    "    },\n",
    "\n",
    "    {\n",
    "        \"box_number\": 4,\n",
    "        \"box_name\": \"Black Tote\",\n",
    "        \"contents\": [\n",
    "            \"Bags\",\n",
    "            \"Shoes\",\n",
    "            \"Sports\"\n",
    "        ],\n",
    "        \"size\": \"medium\",\n",
    "        \"length\": 21,\n",
    "        \"width\": 16,\n",
    "        \"height\": 15,\n",
    "        \"weight_class\": 2,\n",
    "        \"fragile\": False,\n",
    "        \"liquid\": False,\n",
    "        \"valuable\": False,\n",
    "        \"weather_resistant\": True\n",
    "    },\n",
    "\n",
    "    {\n",
    "        \"box_number\": 3,\n",
    "        \"box_name\": \"Big Clock Box\",\n",
    "        \"contents\": [\n",
    "            \"clock\",\n",
    "            \"bedding\"],\n",
    "        \"size\": \"xlarge\",\n",
    "        \"length\": 24,\n",
    "        \"width\": 21,\n",
    "        \"height\": 20,\n",
    "        \"weight_class\": 1,\n",
    "        \"fragile\": False,\n",
    "        \"liquid\": False,\n",
    "        \"valuable\": False,\n",
    "        \"weather_resistant\": False\n",
    "    },\n",
    "\n",
    "    {\n",
    "        \"box_number\": 10,\n",
    "        \"box_name\": \"Yellow Lid Tote\",\n",
    "        \"contents\": [\n",
    "            \"toosl\",\n",
    "            \"car stuff\"\n",
    "        ],\n",
    "        \"size\": \"xlarge\",\n",
    "        \"length\": 30,\n",
    "        \"width\": 20,\n",
    "        \"height\": 15,\n",
    "        \"weight_class\": 3,\n",
    "        \"fragile\": True,\n",
    "        \"liquid\": False,\n",
    "        \"valuable\": False,\n",
    "        \"weather_resistant\": False\n",
    "    },\n",
    "\n",
    "    {\n",
    "        \"box_number\": 11,\n",
    "        \"box_name\": \"Games\",\n",
    "        \"contents\": [\n",
    "            \"clock\",\n",
    "            \"blankets\"],\n",
    "        \"size\": \"medium\",\n",
    "        \"length\": 21,\n",
    "        \"width\": 16,\n",
    "        \"height\": 15,\n",
    "        \"weight_class\": 1,\n",
    "        \"fragile\": False,\n",
    "        \"liquid\": False,\n",
    "        \"valuable\": False,\n",
    "        \"weather_resistant\": True\n",
    "    },\n",
    "\n",
    "    {\n",
    "        \"box_number\": 12,\n",
    "        \"box_name\": \"Costumes\",\n",
    "        \"contents\": [\n",
    "            \"clock\",\n",
    "            \"blankets\"],\n",
    "        \"size\": \"medium\",\n",
    "        \"length\": 21,\n",
    "        \"width\": 16,\n",
    "        \"height\": 15,\n",
    "        \"weight_class\": 1,\n",
    "        \"fragile\": False,\n",
    "        \"liquid\": False,\n",
    "        \"valuable\": False,\n",
    "        \"weather_resistant\": True\n",
    "    },\n",
    "\n",
    "    {\n",
    "        \"box_number\": 13,\n",
    "        \"box_name\": \"Computer Monitors\",\n",
    "        \"contents\": [\n",
    "            \"clock\",\n",
    "            \"blankets\"],\n",
    "        \"size\": \"xlarge\",\n",
    "        \"length\": 24,\n",
    "        \"width\": 21,\n",
    "        \"height\": 20,\n",
    "        \"weight_class\": 3,\n",
    "        \"fragile\": True,\n",
    "        \"liquid\": False,\n",
    "        \"valuable\": True,\n",
    "        \"weather_resistant\": False\n",
    "    },\n",
    "    {\n",
    "        \"box_number\": 14,\n",
    "        \"box_name\": \"Liquids\",\n",
    "        \"contents\": [\n",
    "            \"clock\",\n",
    "            \"blankets\"],\n",
    "        \"size\": \"medium\",\n",
    "        \"length\": 21,\n",
    "        \"width\": 16,\n",
    "        \"height\": 15,\n",
    "        \"weight_class\": 3,\n",
    "        \"fragile\": False,\n",
    "        \"liquid\": True,\n",
    "        \"valuable\": False,\n",
    "        \"weather_resistant\": True\n",
    "    },\n",
    "\n",
    "    {\n",
    "        \"box_number\": 15,\n",
    "        \"box_name\": \"Misc Bedroom\",\n",
    "        \"contents\": [\n",
    "            \"clock\",\n",
    "            \"blankets\"],\n",
    "        \"size\": \"small\",\n",
    "        \"length\": 11,\n",
    "        \"width\": 17,\n",
    "        \"height\": 11,\n",
    "        \"weight_class\": 1,\n",
    "        \"fragile\": False,\n",
    "        \"liquid\": False,\n",
    "        \"valuable\": False,\n",
    "        \"weather_resistant\": True\n",
    "    },\n",
    "    {\n",
    "        \"box_number\": 16,\n",
    "        \"box_name\": \"Misc Accessories\",\n",
    "        \"contents\": [\n",
    "            \"clock\",\n",
    "            \"blankets\"],\n",
    "        \"size\": \"small\",\n",
    "        \"length\": 17,\n",
    "        \"width\": 11,\n",
    "        \"height\": 11,\n",
    "        \"weight_class\": 1,\n",
    "        \"fragile\": False,\n",
    "        \"liquid\": False,\n",
    "        \"valuable\": False,\n",
    "        \"weather_resistant\": True\n",
    "    },\n",
    "    {\n",
    "        \"box_number\": 17,\n",
    "        \"box_name\": \"Green Duffel\",\n",
    "        \"contents\": [\n",
    "            \"clock\",\n",
    "            \"blankets\"],\n",
    "        \"size\": \"small\",\n",
    "        \"length\": 17,\n",
    "        \"width\": 11,\n",
    "        \"height\": 11,\n",
    "        \"weight_class\": 1,\n",
    "        \"fragile\": False,\n",
    "        \"liquid\": False,\n",
    "        \"valuable\": False,\n",
    "        \"weather_resistant\": False\n",
    "    },\n",
    "    {\n",
    "        \"box_number\": 18,\n",
    "        \"box_name\": \"Clothes\",\n",
    "        \"contents\": [\n",
    "            \"hangers\",\n",
    "            \"dress clothes\",\n",
    "        \"pants\"],\n",
    "        \"size\": \"medium\",\n",
    "        \"length\": 21,\n",
    "        \"width\": 16,\n",
    "        \"height\": 15,\n",
    "        \"weight_class\": 2,\n",
    "        \"fragile\": False,\n",
    "        \"liquid\": False,\n",
    "        \"valuable\": False,\n",
    "        \"weather_resistant\": False\n",
    "    },\n",
    "    {\n",
    "        \"box_number\": 19,\n",
    "        \"box_name\": \"Computer Equipment\",\n",
    "        \"contents\": [\n",
    "            \"under bed boxes\",\n",
    "            \"cables, connectors, powerstrips\"],\n",
    "        \"size\": \"small\",\n",
    "        \"length\": 17,\n",
    "        \"width\": 11,\n",
    "        \"height\": 11,\n",
    "        \"weight_class\": 1,\n",
    "        \"fragile\": False,\n",
    "        \"liquid\": False,\n",
    "        \"valuable\": False,\n",
    "        \"weather_resistant\": False\n",
    "    },\n",
    "    {\n",
    "        \"box_number\": 20,\n",
    "        \"box_name\": \"Desk Equivalent\",\n",
    "        \"contents\": [\n",
    "            \"desk\"],\n",
    "        \"size\": \"medium\",\n",
    "        \"length\": 21,\n",
    "        \"width\": 16,\n",
    "        \"height\": 15,\n",
    "        \"weight_class\": \"heavy\",\n",
    "        \"fragile\": False,\n",
    "        \"liquid\": False,\n",
    "        \"valuable\": True,\n",
    "        \"weather_resistant\": False\n",
    "    }\n",
    "\n",
    "\n",
    "]"
   ]
  },
  {
   "cell_type": "code",
   "execution_count": 684,
   "metadata": {},
   "outputs": [],
   "source": [
    "def add_box(box):\n",
    "    response = table.put_item(Item=box)\n",
    "    return response\n",
    "\n",
    "\n",
    "def add_all_boxes(boxes):\n",
    "    for box in boxes:\n",
    "        add_box(box)\n",
    "\n",
    "\n",
    "def delete_box(box):\n",
    "    response = table.delete_item()\n",
    "    return response\n",
    "\n",
    "\n",
    "def get_box(box_number):\n",
    "    box = table.get_item(Key={'box_number': box_number})['Item']\n",
    "    border_size = 30\n",
    "    title = f'{\"=\"*border_size} BOX {box.get(\"box_number\")} {\"=\"*border_size}'\n",
    "    print(title)\n",
    "    for item in box:\n",
    "        print(f'|  {item}:{box.get(item)}')\n",
    "    print('-'*len(title))\n",
    "    print()\n",
    "\n",
    "\n",
    "def print_all_boxes():\n",
    "    response = table.scan()\n",
    "    boxes = response.get('Items', [])\n",
    "    border_size = 30\n",
    "    for box in sorted(boxes, key=itemgetter('box_number')):\n",
    "        title = f'{\"=\"*border_size} BOX {box.get(\"box_number\")} {\"=\"*border_size}'\n",
    "        print(title)\n",
    "        for item in box:\n",
    "            print(f'|  {item}:{box.get(item)}')\n",
    "        print('-'*len(title))\n",
    "        print()\n",
    "\n",
    "\n",
    "def print_sorted_boxes(attributes=None, sort_values=None):\n",
    "    if not attributes and not sort_values:  # defaults\n",
    "        attributes, sort_values = ['box_name'], ['box_name']\n",
    "    if not attributes and sort_values:  # must have sort values in attributes also\n",
    "        attributes = sort_values\n",
    "    if attributes and not sort_values:  # sort by first attribute in list\n",
    "        sort_values = [attributes[0]]\n",
    "    attributes = ', '.join(attributes)\n",
    "    box_totals = table.scan(ProjectionExpression=attributes).get('Items')\n",
    "\n",
    "    for box in sorted(box_totals, key=itemgetter(*sort_values)):\n",
    "        print(' '.join([f'{att.capitalize()}: {box[att]:<15}' for att in box]))\n",
    "\n",
    "\n",
    "\n",
    "def delete_all_boxes():\n",
    "    boxes_in_table = table.scan(ProjectionExpression='box_number').get('Items')\n",
    "    box_numbers = [box.get('box_number') for box in boxes_in_table]\n",
    "    for number in box_numbers:\n",
    "        table.delete_item(Key={'box_number': number})\n",
    "\n",
    "\n",
    "def calculate_box_volume():\n",
    "    boxes = table.scan().get('Items')\n",
    "    volume = 0\n",
    "    for box in boxes:\n",
    "        l = box['length']\n",
    "        w = box['width']\n",
    "        h = box['height']\n",
    "        volume += (l * w * h)\n",
    "    return int(volume)\n",
    "\n",
    "\n",
    "def calculate_box_footprint():\n",
    "    boxes = table.scan().get('Items')\n",
    "    footprint = 0\n",
    "    for box in boxes:\n",
    "        l = box['length']\n",
    "        w = box['width']\n",
    "        footprint += (l * w)\n",
    "    return int(footprint)\n",
    "\n",
    "\n",
    "def box_attribute_counter(attribute):\n",
    "    atts = [b[attribute] for b in table.scan().get('Items')]\n",
    "    for val, cnt in Counter(atts).items():\n",
    "        if val is True:\n",
    "            val = 'Yes'\n",
    "        if val is False:\n",
    "            val = 'No'\n",
    "        print(f'{val.capitalize():<8} {cnt}')"
   ]
  },
  {
   "cell_type": "code",
   "execution_count": 532,
   "metadata": {},
   "outputs": [],
   "source": [
    "# Delete all boxes\n",
    "delete_all_boxes()"
   ]
  },
  {
   "cell_type": "code",
   "execution_count": 533,
   "metadata": {
    "scrolled": false
   },
   "outputs": [],
   "source": [
    "# Add all boxes\n",
    "add_all_boxes(boxes)"
   ]
  },
  {
   "cell_type": "code",
   "execution_count": 534,
   "metadata": {
    "scrolled": true
   },
   "outputs": [
    {
     "name": "stdout",
     "output_type": "stream",
     "text": [
      "Number of Boxes: 21\n"
     ]
    }
   ],
   "source": [
    "print(f'Number of Boxes: {len(table.scan().get(\"Items\"))}')"
   ]
  },
  {
   "cell_type": "code",
   "execution_count": 685,
   "metadata": {
    "scrolled": false
   },
   "outputs": [
    {
     "name": "stdout",
     "output_type": "stream",
     "text": [
      "Small    7\n",
      "Medium   11\n",
      "Xlarge   3\n"
     ]
    }
   ],
   "source": [
    "box_attribute_counter('size')"
   ]
  },
  {
   "cell_type": "code",
   "execution_count": 686,
   "metadata": {},
   "outputs": [
    {
     "name": "stdout",
     "output_type": "stream",
     "text": [
      "No       16\n",
      "Yes      5\n"
     ]
    }
   ],
   "source": [
    "box_attribute_counter('valuable')"
   ]
  },
  {
   "cell_type": "code",
   "execution_count": 687,
   "metadata": {},
   "outputs": [
    {
     "name": "stdout",
     "output_type": "stream",
     "text": [
      "Yes      7\n",
      "No       14\n"
     ]
    }
   ],
   "source": [
    "box_attribute_counter('weather_resistant')"
   ]
  },
  {
   "cell_type": "code",
   "execution_count": 535,
   "metadata": {
    "scrolled": false
   },
   "outputs": [
    {
     "name": "stdout",
     "output_type": "stream",
     "text": [
      "============================== BOX 1 ==============================\n",
      "|  size:medium\n",
      "|  fragile:True\n",
      "|  weather_resistant:False\n",
      "|  contents:['desktop', 'ups', 'gray power strip']\n",
      "|  liquid:False\n",
      "|  length:21\n",
      "|  width:16\n",
      "|  height:15\n",
      "|  box_number:1\n",
      "|  weight_class:3\n",
      "|  valuable:True\n",
      "|  box_name:Computers\n",
      "-------------------------------------------------------------------\n",
      "\n",
      "============================== BOX 2 ==============================\n",
      "|  size:medium\n",
      "|  fragile:False\n",
      "|  weather_resistant:False\n",
      "|  contents:['protein', 'magic powder', 'wheatgrass powder', 'creatine', 'cacao', 'turbinado sugar']\n",
      "|  liquid:False\n",
      "|  length:21\n",
      "|  width:16\n",
      "|  height:15\n",
      "|  box_number:2\n",
      "|  weight_class:2\n",
      "|  valuable:False\n",
      "|  box_name:Food Staples\n",
      "-------------------------------------------------------------------\n",
      "\n",
      "============================== BOX 3 ==============================\n",
      "|  size:xlarge\n",
      "|  fragile:False\n",
      "|  weather_resistant:False\n",
      "|  contents:['clock', 'bedding']\n",
      "|  liquid:False\n",
      "|  length:24\n",
      "|  width:21\n",
      "|  height:20\n",
      "|  box_number:3\n",
      "|  weight_class:1\n",
      "|  valuable:False\n",
      "|  box_name:Big Clock Box\n",
      "-------------------------------------------------------------------\n",
      "\n",
      "============================== BOX 4 ==============================\n",
      "|  size:medium\n",
      "|  fragile:False\n",
      "|  weather_resistant:True\n",
      "|  contents:['Bags', 'Shoes', 'Sports']\n",
      "|  liquid:False\n",
      "|  length:21\n",
      "|  width:16\n",
      "|  height:15\n",
      "|  box_number:4\n",
      "|  weight_class:2\n",
      "|  valuable:False\n",
      "|  box_name:Black Tote\n",
      "-------------------------------------------------------------------\n",
      "\n",
      "============================== BOX 5 ==============================\n",
      "|  size:medium\n",
      "|  fragile:False\n",
      "|  weather_resistant:False\n",
      "|  contents:['desktop', 'ups', 'gray power strip']\n",
      "|  liquid:False\n",
      "|  length:21\n",
      "|  width:16\n",
      "|  height:15\n",
      "|  box_number:5\n",
      "|  weight_class:1\n",
      "|  valuable:False\n",
      "|  box_name:TV Stand 1\n",
      "-------------------------------------------------------------------\n",
      "\n",
      "============================== BOX 6 ==============================\n",
      "|  size:small\n",
      "|  fragile:False\n",
      "|  weather_resistant:False\n",
      "|  contents:['protein', 'magic powder', 'wheatgrass powder', 'creatine', 'cacao', 'turbinado sugar']\n",
      "|  liquid:False\n",
      "|  length:17\n",
      "|  width:11\n",
      "|  height:11\n",
      "|  box_number:6\n",
      "|  weight_class:1\n",
      "|  valuable:False\n",
      "|  box_name:TV Stand 3\n",
      "-------------------------------------------------------------------\n",
      "\n",
      "============================== BOX 7 ==============================\n",
      "|  size:small\n",
      "|  fragile:False\n",
      "|  weather_resistant:True\n",
      "|  contents:['bathroom shit', 'hair clippers', 'plastic drawer bin', 'medicines', 'cologne']\n",
      "|  liquid:False\n",
      "|  length:11\n",
      "|  width:17\n",
      "|  height:11\n",
      "|  box_number:7\n",
      "|  weight_class:1\n",
      "|  valuable:False\n",
      "|  box_name:Bathroom\n",
      "-------------------------------------------------------------------\n",
      "\n",
      "============================== BOX 8 ==============================\n",
      "|  size:medium\n",
      "|  fragile:True\n",
      "|  weather_resistant:False\n",
      "|  contents:['protein', 'magic powder', 'wheatgrass powder', 'creatine', 'cacao', 'turbinado sugar']\n",
      "|  liquid:False\n",
      "|  length:21\n",
      "|  width:16\n",
      "|  height:15\n",
      "|  box_number:8\n",
      "|  weight_class:1\n",
      "|  valuable:True\n",
      "|  box_name:Kitchen 1 of 2\n",
      "-------------------------------------------------------------------\n",
      "\n",
      "============================== BOX 9 ==============================\n",
      "|  size:medium\n",
      "|  fragile:False\n",
      "|  weather_resistant:False\n",
      "|  contents:['protein', 'magic powder', 'wheatgrass powder', 'creatine', 'cacao', 'turbinado sugar']\n",
      "|  liquid:False\n",
      "|  length:21\n",
      "|  width:16\n",
      "|  height:15\n",
      "|  box_number:9\n",
      "|  weight_class:2\n",
      "|  valuable:True\n",
      "|  box_name:Kitchen 2 of 2\n",
      "-------------------------------------------------------------------\n",
      "\n",
      "============================== BOX 10 ==============================\n",
      "|  size:xlarge\n",
      "|  fragile:True\n",
      "|  weather_resistant:False\n",
      "|  contents:['toosl', 'car stuff']\n",
      "|  liquid:False\n",
      "|  length:30\n",
      "|  width:20\n",
      "|  height:15\n",
      "|  box_number:10\n",
      "|  weight_class:3\n",
      "|  valuable:False\n",
      "|  box_name:Yellow Lid Tote\n",
      "--------------------------------------------------------------------\n",
      "\n",
      "============================== BOX 11 ==============================\n",
      "|  size:medium\n",
      "|  fragile:False\n",
      "|  weather_resistant:True\n",
      "|  contents:['clock', 'blankets']\n",
      "|  liquid:False\n",
      "|  length:21\n",
      "|  width:16\n",
      "|  height:15\n",
      "|  box_number:11\n",
      "|  weight_class:1\n",
      "|  valuable:False\n",
      "|  box_name:Games\n",
      "--------------------------------------------------------------------\n",
      "\n",
      "============================== BOX 12 ==============================\n",
      "|  size:medium\n",
      "|  fragile:False\n",
      "|  weather_resistant:True\n",
      "|  contents:['clock', 'blankets']\n",
      "|  liquid:False\n",
      "|  length:21\n",
      "|  width:16\n",
      "|  height:15\n",
      "|  box_number:12\n",
      "|  weight_class:1\n",
      "|  valuable:False\n",
      "|  box_name:Costumes\n",
      "--------------------------------------------------------------------\n",
      "\n",
      "============================== BOX 13 ==============================\n",
      "|  size:xlarge\n",
      "|  fragile:True\n",
      "|  weather_resistant:False\n",
      "|  contents:['clock', 'blankets']\n",
      "|  liquid:False\n",
      "|  length:24\n",
      "|  width:21\n",
      "|  height:20\n",
      "|  box_number:13\n",
      "|  weight_class:3\n",
      "|  valuable:True\n",
      "|  box_name:Computer Monitors\n",
      "--------------------------------------------------------------------\n",
      "\n",
      "============================== BOX 14 ==============================\n",
      "|  size:medium\n",
      "|  fragile:False\n",
      "|  weather_resistant:True\n",
      "|  contents:['clock', 'blankets']\n",
      "|  liquid:True\n",
      "|  length:21\n",
      "|  width:16\n",
      "|  height:15\n",
      "|  box_number:14\n",
      "|  weight_class:3\n",
      "|  valuable:False\n",
      "|  box_name:Liquids\n",
      "--------------------------------------------------------------------\n",
      "\n",
      "============================== BOX 15 ==============================\n",
      "|  size:small\n",
      "|  fragile:False\n",
      "|  weather_resistant:True\n",
      "|  contents:['clock', 'blankets']\n",
      "|  liquid:False\n",
      "|  length:11\n",
      "|  width:17\n",
      "|  height:11\n",
      "|  box_number:15\n",
      "|  weight_class:1\n",
      "|  valuable:False\n",
      "|  box_name:Misc Bedroom\n",
      "--------------------------------------------------------------------\n",
      "\n",
      "============================== BOX 16 ==============================\n",
      "|  size:small\n",
      "|  fragile:False\n",
      "|  weather_resistant:True\n",
      "|  contents:['clock', 'blankets']\n",
      "|  liquid:False\n",
      "|  length:17\n",
      "|  width:11\n",
      "|  height:11\n",
      "|  box_number:16\n",
      "|  weight_class:1\n",
      "|  valuable:False\n",
      "|  box_name:Misc Accessories\n",
      "--------------------------------------------------------------------\n",
      "\n",
      "============================== BOX 17 ==============================\n",
      "|  size:small\n",
      "|  fragile:False\n",
      "|  weather_resistant:False\n",
      "|  contents:['clock', 'blankets']\n",
      "|  liquid:False\n",
      "|  length:17\n",
      "|  width:11\n",
      "|  height:11\n",
      "|  box_number:17\n",
      "|  weight_class:1\n",
      "|  valuable:False\n",
      "|  box_name:Green Duffel\n",
      "--------------------------------------------------------------------\n",
      "\n",
      "============================== BOX 18 ==============================\n",
      "|  size:medium\n",
      "|  fragile:False\n",
      "|  weather_resistant:False\n",
      "|  contents:['hangers', 'dress clothes', 'pants']\n",
      "|  liquid:False\n",
      "|  length:21\n",
      "|  width:16\n",
      "|  height:15\n",
      "|  box_number:18\n",
      "|  weight_class:2\n",
      "|  valuable:False\n",
      "|  box_name:Clothes\n",
      "--------------------------------------------------------------------\n",
      "\n",
      "============================== BOX 19 ==============================\n",
      "|  size:small\n",
      "|  fragile:False\n",
      "|  weather_resistant:False\n",
      "|  contents:['under bed boxes', 'cables, connectors, powerstrips']\n",
      "|  liquid:False\n",
      "|  length:17\n",
      "|  width:11\n",
      "|  height:11\n",
      "|  box_number:19\n",
      "|  weight_class:1\n",
      "|  valuable:False\n",
      "|  box_name:Computer Equipment\n",
      "--------------------------------------------------------------------\n",
      "\n",
      "============================== BOX 20 ==============================\n",
      "|  size:medium\n",
      "|  fragile:False\n",
      "|  weather_resistant:False\n",
      "|  contents:['desk']\n",
      "|  liquid:False\n",
      "|  length:21\n",
      "|  width:16\n",
      "|  height:15\n",
      "|  box_number:20\n",
      "|  weight_class:heavy\n",
      "|  valuable:True\n",
      "|  box_name:Desk Equivalent\n",
      "--------------------------------------------------------------------\n",
      "\n",
      "============================== BOX 21 ==============================\n",
      "|  size:small\n",
      "|  fragile:False\n",
      "|  weather_resistant:False\n",
      "|  contents:['protein', 'magic powder', 'wheatgrass powder', 'creatine', 'cacao', 'turbinado sugar']\n",
      "|  liquid:False\n",
      "|  length:17\n",
      "|  width:11\n",
      "|  height:11\n",
      "|  box_number:21\n",
      "|  weight_class:1\n",
      "|  valuable:False\n",
      "|  box_name:TV Stand 2\n",
      "--------------------------------------------------------------------\n",
      "\n"
     ]
    }
   ],
   "source": [
    "# Get all boxes\n",
    "print_all_boxes()"
   ]
  },
  {
   "cell_type": "code",
   "execution_count": 536,
   "metadata": {
    "scrolled": true
   },
   "outputs": [
    {
     "name": "stdout",
     "output_type": "stream",
     "text": [
      "Size: medium          Box_name: Black Tote     \n",
      "Size: medium          Box_name: Clothes        \n",
      "Size: medium          Box_name: Computers      \n",
      "Size: medium          Box_name: Costumes       \n",
      "Size: medium          Box_name: Desk Equivalent\n",
      "Size: medium          Box_name: Food Staples   \n",
      "Size: medium          Box_name: Games          \n",
      "Size: medium          Box_name: Kitchen 1 of 2 \n",
      "Size: medium          Box_name: Kitchen 2 of 2 \n",
      "Size: medium          Box_name: Liquids        \n",
      "Size: medium          Box_name: TV Stand 1     \n",
      "Size: small           Box_name: Bathroom       \n",
      "Size: small           Box_name: Computer Equipment\n",
      "Size: small           Box_name: Green Duffel   \n",
      "Size: small           Box_name: Misc Accessories\n",
      "Size: small           Box_name: Misc Bedroom   \n",
      "Size: small           Box_name: TV Stand 2     \n",
      "Size: small           Box_name: TV Stand 3     \n",
      "Size: xlarge          Box_name: Big Clock Box  \n",
      "Size: xlarge          Box_name: Computer Monitors\n",
      "Size: xlarge          Box_name: Yellow Lid Tote\n",
      "\n",
      "Total Boxes:  21\n"
     ]
    }
   ],
   "source": [
    "print_sorted_boxes(['box_name','size'], ['size','box_name'])"
   ]
  },
  {
   "cell_type": "code",
   "execution_count": 638,
   "metadata": {
    "scrolled": false
   },
   "outputs": [
    {
     "name": "stdout",
     "output_type": "stream",
     "text": [
      "Size: medium          Valuable: 0               Weather_resistant: 0               Box_name: Food Staples   \n",
      "Size: medium          Valuable: 0               Weather_resistant: 0               Box_name: Clothes        \n",
      "Size: medium          Valuable: 0               Weather_resistant: 0               Box_name: TV Stand 1     \n",
      "Size: small           Valuable: 0               Weather_resistant: 0               Box_name: TV Stand 2     \n",
      "Size: small           Valuable: 0               Weather_resistant: 0               Box_name: Green Duffel   \n",
      "Size: small           Valuable: 0               Weather_resistant: 0               Box_name: TV Stand 3     \n",
      "Size: small           Valuable: 0               Weather_resistant: 0               Box_name: Computer Equipment\n",
      "Size: xlarge          Valuable: 0               Weather_resistant: 0               Box_name: Yellow Lid Tote\n",
      "Size: xlarge          Valuable: 0               Weather_resistant: 0               Box_name: Big Clock Box  \n",
      "Size: medium          Valuable: 0               Weather_resistant: 1               Box_name: Liquids        \n",
      "Size: medium          Valuable: 0               Weather_resistant: 1               Box_name: Costumes       \n",
      "Size: medium          Valuable: 0               Weather_resistant: 1               Box_name: Black Tote     \n",
      "Size: medium          Valuable: 0               Weather_resistant: 1               Box_name: Games          \n",
      "Size: small           Valuable: 0               Weather_resistant: 1               Box_name: Bathroom       \n",
      "Size: small           Valuable: 0               Weather_resistant: 1               Box_name: Misc Accessories\n",
      "Size: small           Valuable: 0               Weather_resistant: 1               Box_name: Misc Bedroom   \n",
      "Size: medium          Valuable: 1               Weather_resistant: 0               Box_name: Kitchen 1 of 2 \n",
      "Size: medium          Valuable: 1               Weather_resistant: 0               Box_name: Kitchen 2 of 2 \n",
      "Size: medium          Valuable: 1               Weather_resistant: 0               Box_name: Desk Equivalent\n",
      "Size: medium          Valuable: 1               Weather_resistant: 0               Box_name: Computers      \n",
      "Size: xlarge          Valuable: 1               Weather_resistant: 0               Box_name: Computer Monitors\n"
     ]
    }
   ],
   "source": [
    "print_sorted_boxes(['box_name', 'size', 'weather_resistant', 'valuable'], ['valuable', 'weather_resistant', 'size'])"
   ]
  },
  {
   "cell_type": "code",
   "execution_count": 679,
   "metadata": {
    "scrolled": false
   },
   "outputs": [],
   "source": [
    "def filter_table(attributes):\n",
    "    attributes = ', '.join(attributes)  \n",
    "    table_boxes = table.scan(\n",
    "        ProjectionExpression=attributes,\n",
    "        FilterExpression=Attr('valuable').eq(False) & Attr('weather_resistant').eq(True)\n",
    "    )\n",
    "    boxes = table_boxes.get('Items')\n",
    "    for box in boxes:\n",
    "        print(' '.join([f'{att.capitalize()}: {box[att]:<15}' for att in box]))"
   ]
  },
  {
   "cell_type": "code",
   "execution_count": 680,
   "metadata": {},
   "outputs": [
    {
     "name": "stdout",
     "output_type": "stream",
     "text": [
      "Size: small           Valuable: 0               Weather_resistant: 1               Box_name: Bathroom       \n",
      "Size: medium          Valuable: 0               Weather_resistant: 1               Box_name: Liquids        \n",
      "Size: medium          Valuable: 0               Weather_resistant: 1               Box_name: Costumes       \n",
      "Size: medium          Valuable: 0               Weather_resistant: 1               Box_name: Black Tote     \n",
      "Size: small           Valuable: 0               Weather_resistant: 1               Box_name: Misc Accessories\n",
      "Size: small           Valuable: 0               Weather_resistant: 1               Box_name: Misc Bedroom   \n",
      "Size: medium          Valuable: 0               Weather_resistant: 1               Box_name: Games          \n"
     ]
    }
   ],
   "source": [
    "filter_atts = ['box_name', 'size', 'valuable', 'weather_resistant']\n",
    "filter_table(filter_atts)"
   ]
  },
  {
   "cell_type": "code",
   "execution_count": null,
   "metadata": {},
   "outputs": [],
   "source": []
  },
  {
   "cell_type": "markdown",
   "metadata": {},
   "source": [
    "# Volumes and Calculations"
   ]
  },
  {
   "cell_type": "code",
   "execution_count": 537,
   "metadata": {},
   "outputs": [],
   "source": [
    "total_box_volume = calculate_box_volume()\n",
    "total_box_footprint = calculate_box_footprint()"
   ]
  },
  {
   "cell_type": "code",
   "execution_count": 538,
   "metadata": {},
   "outputs": [
    {
     "data": {
      "text/plain": [
       "4969"
      ]
     },
     "execution_count": 538,
     "metadata": {},
     "output_type": "execute_result"
    }
   ],
   "source": [
    "(audi_cargo_volume + roof_cargo_volume) - total_box_volume"
   ]
  },
  {
   "cell_type": "code",
   "execution_count": 539,
   "metadata": {},
   "outputs": [
    {
     "data": {
      "text/plain": [
       "64.20000000000027"
      ]
     },
     "execution_count": 539,
     "metadata": {},
     "output_type": "execute_result"
    }
   ],
   "source": [
    "(audi_footprint + roof_footprint) - (total_box_footprint * .60)"
   ]
  },
  {
   "cell_type": "code",
   "execution_count": 540,
   "metadata": {},
   "outputs": [
    {
     "data": {
      "text/plain": [
       "0.40813492063492063"
      ]
     },
     "execution_count": 540,
     "metadata": {},
     "output_type": "execute_result"
    }
   ],
   "source": [
    "small_box_volume / medium_box_volume"
   ]
  },
  {
   "cell_type": "code",
   "execution_count": 541,
   "metadata": {},
   "outputs": [
    {
     "data": {
      "text/plain": [
       "0.7791666666666667"
      ]
     },
     "execution_count": 541,
     "metadata": {},
     "output_type": "execute_result"
    }
   ],
   "source": [
    "small_box_footprint / medium_box_footprint"
   ]
  },
  {
   "cell_type": "code",
   "execution_count": 569,
   "metadata": {},
   "outputs": [],
   "source": []
  },
  {
   "cell_type": "code",
   "execution_count": 570,
   "metadata": {},
   "outputs": [
    {
     "data": {
      "text/plain": [
       "Counter({'small': 7, 'medium': 11, 'xlarge': 3})"
      ]
     },
     "execution_count": 570,
     "metadata": {},
     "output_type": "execute_result"
    }
   ],
   "source": [
    "box_size_counter()"
   ]
  },
  {
   "cell_type": "code",
   "execution_count": 542,
   "metadata": {},
   "outputs": [
    {
     "data": {
      "text/plain": [
       "99014"
      ]
     },
     "execution_count": 542,
     "metadata": {},
     "output_type": "execute_result"
    }
   ],
   "source": [
    "99014"
   ]
  },
  {
   "cell_type": "code",
   "execution_count": 543,
   "metadata": {},
   "outputs": [
    {
     "name": "stdout",
     "output_type": "stream",
     "text": [
      "66528\n",
      "2592\n"
     ]
    }
   ],
   "source": [
    "audi_cargo_volume = 54*44*28\n",
    "audi_footprint = 36*72\n",
    "print(audi_cargo_volume)\n",
    "print(audi_footprint)"
   ]
  },
  {
   "cell_type": "code",
   "execution_count": 544,
   "metadata": {},
   "outputs": [
    {
     "data": {
      "text/plain": [
       "1440"
      ]
     },
     "execution_count": 544,
     "metadata": {},
     "output_type": "execute_result"
    }
   ],
   "source": [
    "rack_cargo_volume = 20*12*12*12\n",
    "rack_footprint = 24*60\n",
    "rack_cargo_volume\n",
    "rack_footprint"
   ]
  },
  {
   "cell_type": "code",
   "execution_count": 545,
   "metadata": {},
   "outputs": [],
   "source": [
    "small_box_volume = 17*11*11\n",
    "small_box_footprint = 17*11"
   ]
  },
  {
   "cell_type": "code",
   "execution_count": 546,
   "metadata": {},
   "outputs": [
    {
     "data": {
      "text/plain": [
       "5040"
      ]
     },
     "execution_count": 546,
     "metadata": {},
     "output_type": "execute_result"
    }
   ],
   "source": [
    "medium_box_volume = 21*15*16\n",
    "medium_box_footprint = 16*15\n",
    "medium_box_volume"
   ]
  },
  {
   "cell_type": "code",
   "execution_count": 547,
   "metadata": {},
   "outputs": [
    {
     "data": {
      "text/plain": [
       "10080"
      ]
     },
     "execution_count": 547,
     "metadata": {},
     "output_type": "execute_result"
    }
   ],
   "source": [
    "xl_box_volume = 24*20*21\n",
    "xl_box_footprint = 24*20\n",
    "xl_box_volume"
   ]
  },
  {
   "cell_type": "code",
   "execution_count": 548,
   "metadata": {},
   "outputs": [
    {
     "data": {
      "text/plain": [
       "3.0"
      ]
     },
     "execution_count": 548,
     "metadata": {},
     "output_type": "execute_result"
    }
   ],
   "source": [
    "rack_footprint / xl_box_footprint"
   ]
  },
  {
   "cell_type": "code",
   "execution_count": 549,
   "metadata": {},
   "outputs": [
    {
     "data": {
      "text/plain": [
       "6.0"
      ]
     },
     "execution_count": 549,
     "metadata": {},
     "output_type": "execute_result"
    }
   ],
   "source": [
    "rack_footprint / medium_box_footprint"
   ]
  },
  {
   "cell_type": "code",
   "execution_count": 550,
   "metadata": {},
   "outputs": [],
   "source": [
    "roof_cargo_volume = 60*24*26\n",
    "roof_footprint = 60*24"
   ]
  },
  {
   "cell_type": "code",
   "execution_count": 551,
   "metadata": {},
   "outputs": [
    {
     "data": {
      "text/plain": [
       "7"
      ]
     },
     "execution_count": 551,
     "metadata": {},
     "output_type": "execute_result"
    }
   ],
   "source": [
    "roof_footprint // small_box_footprint"
   ]
  },
  {
   "cell_type": "code",
   "execution_count": 552,
   "metadata": {},
   "outputs": [
    {
     "data": {
      "text/plain": [
       "13.2"
      ]
     },
     "execution_count": 552,
     "metadata": {},
     "output_type": "execute_result"
    }
   ],
   "source": [
    "audi_cargo_volume / medium_box_volume"
   ]
  },
  {
   "cell_type": "code",
   "execution_count": 553,
   "metadata": {},
   "outputs": [
    {
     "data": {
      "text/plain": [
       "20.62857142857143"
      ]
     },
     "execution_count": 553,
     "metadata": {},
     "output_type": "execute_result"
    }
   ],
   "source": [
    "(audi_cargo_volume + roof_cargo_volume) / medium_box_volume"
   ]
  },
  {
   "cell_type": "code",
   "execution_count": 554,
   "metadata": {},
   "outputs": [
    {
     "data": {
      "text/plain": [
       "27.485714285714284"
      ]
     },
     "execution_count": 554,
     "metadata": {},
     "output_type": "execute_result"
    }
   ],
   "source": [
    "(audi_cargo_volume + roof_cargo_volume + rack_cargo_volume) / medium_box_volume"
   ]
  },
  {
   "cell_type": "code",
   "execution_count": 555,
   "metadata": {},
   "outputs": [
    {
     "data": {
      "text/plain": [
       "10.314285714285715"
      ]
     },
     "execution_count": 555,
     "metadata": {},
     "output_type": "execute_result"
    }
   ],
   "source": [
    "(audi_cargo_volume + roof_cargo_volume) / xl_box_volume"
   ]
  },
  {
   "cell_type": "code",
   "execution_count": 556,
   "metadata": {},
   "outputs": [
    {
     "data": {
      "text/plain": [
       "13.742857142857142"
      ]
     },
     "execution_count": 556,
     "metadata": {},
     "output_type": "execute_result"
    }
   ],
   "source": [
    "(audi_cargo_volume + roof_cargo_volume + rack_cargo_volume) / xl_box_volume"
   ]
  },
  {
   "cell_type": "code",
   "execution_count": 557,
   "metadata": {},
   "outputs": [
    {
     "data": {
      "text/plain": [
       "10.8"
      ]
     },
     "execution_count": 557,
     "metadata": {},
     "output_type": "execute_result"
    }
   ],
   "source": [
    "audi_footprint / medium_box_footprint"
   ]
  },
  {
   "cell_type": "code",
   "execution_count": 558,
   "metadata": {},
   "outputs": [
    {
     "data": {
      "text/plain": [
       "16.8"
      ]
     },
     "execution_count": 558,
     "metadata": {},
     "output_type": "execute_result"
    }
   ],
   "source": [
    "(audi_footprint + roof_footprint) / medium_box_footprint"
   ]
  },
  {
   "cell_type": "code",
   "execution_count": 559,
   "metadata": {},
   "outputs": [],
   "source": [
    "all_box_volume = (4 * small_box_volume) + (13 * medium_box_volume) + (3 * xl_box_volume)"
   ]
  },
  {
   "cell_type": "code",
   "execution_count": 560,
   "metadata": {},
   "outputs": [
    {
     "data": {
      "text/plain": [
       "-20"
      ]
     },
     "execution_count": 560,
     "metadata": {},
     "output_type": "execute_result"
    }
   ],
   "source": [
    "audi_cargo_volume + roof_cargo_volume - all_box_volume"
   ]
  },
  {
   "cell_type": "code",
   "execution_count": null,
   "metadata": {},
   "outputs": [],
   "source": []
  }
 ],
 "metadata": {
  "kernelspec": {
   "display_name": "Python 3",
   "language": "python",
   "name": "python3"
  },
  "language_info": {
   "codemirror_mode": {
    "name": "ipython",
    "version": 3
   },
   "file_extension": ".py",
   "mimetype": "text/x-python",
   "name": "python",
   "nbconvert_exporter": "python",
   "pygments_lexer": "ipython3",
   "version": "3.8.2"
  }
 },
 "nbformat": 4,
 "nbformat_minor": 4
}
