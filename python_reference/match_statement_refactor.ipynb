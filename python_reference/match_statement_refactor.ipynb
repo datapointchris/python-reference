{
 "cells": [
  {
   "cell_type": "code",
   "execution_count": null,
   "metadata": {},
   "outputs": [],
   "source": [
    "def generate_holidays(season_name: SeasonName,\n",
    "                      ends_in_year_type: YearType,\n",
    "                      uposathas: Tuple[Uposatha, ...]) -> Tuple[Holiday]:\n",
    "    match (season_name, ends_in_year_type):\n",
    "        case (SeasonName.RAINY, _):\n",
    "            holidays = (\n",
    "                Holiday(name=HolidayName.PAVARANA, uposatha=uposathas[5]),\n",
    "            )\n",
    "        case (SeasonName.COLD, YearType.EXTRA_MONTH):\n",
    "            holidays = (\n",
    "                Holiday(name=HolidayName.MAGHA, uposatha=uposathas[7]),\n",
    "            )\n",
    "        case (SeasonName.COLD, _):\n",
    "            holidays = (\n",
    "                Holiday(name=HolidayName.MAGHA, uposatha=uposathas[5]),\n",
    "            )\n",
    "        case (SeasonName.HOT, YearType.EXTRA_MONTH):\n",
    "            holidays = (\n",
    "                Holiday(name=HolidayName.VESAK, uposatha=uposathas[5]),\n",
    "                Holiday(name=HolidayName.ASALHA, uposatha=uposathas[9])\n",
    "            )\n",
    "        case(SeasonName.HOT, _):\n",
    "            holidays = (\n",
    "                Holiday(name=HolidayName.VESAK, uposatha=uposathas[3]),\n",
    "                Holiday(name=HolidayName.ASALHA, uposatha=uposathas[7])\n",
    "            )\n",
    "        case _:\n",
    "            holidays = ()\n",
    "    return holidays"
   ]
  },
  {
   "cell_type": "code",
   "execution_count": null,
   "metadata": {},
   "outputs": [],
   "source": [
    "def generate_holidays(\n",
    "    season_name: SeasonName,\n",
    "    ends_in_year_type: YearType,\n",
    "    uposathas: Tuple[Uposatha, ...],\n",
    ") -> Tuple[Holiday]:\n",
    "\n",
    "    holidays_map = {\n",
    "        (SeasonName.RAINY, _): (HolidayName.PAVARANA, uposathas[5]),\n",
    "        (SeasonName.COLD, YearType.EXTRA_MONTH): (HolidayName.MAGHA, uposathas[7]),\n",
    "        (SeasonName.COLD, _): (HolidayName.MAGHA, uposathas[5]),\n",
    "        (SeasonName.HOT, YearType.EXTRA_MONTH): ((HolidayName.VESAK, uposathas[5]), (HolidayName.ASALHA, uposathas[9])),\n",
    "        (SeasonName.HOT, _): ((HolidayName.VESAK, uposathas[3]), (HolidayName.ASALHA, uposathas[7])),\n",
    "    }\n",
    "    holidays = \n",
    "    return holidays_map.get((season_name, ends_in_year_type), ())\n"
   ]
  }
 ],
 "metadata": {
  "kernelspec": {
   "display_name": "Python 3",
   "language": "python",
   "name": "python3"
  },
  "language_info": {
   "name": "python",
   "version": "3.8.12"
  },
  "orig_nbformat": 4,
  "vscode": {
   "interpreter": {
    "hash": "c2a01c6bef90fc769016f0f12a551c4d3ad64cd9fc683da385657bc527c4e0c2"
   }
  }
 },
 "nbformat": 4,
 "nbformat_minor": 2
}
